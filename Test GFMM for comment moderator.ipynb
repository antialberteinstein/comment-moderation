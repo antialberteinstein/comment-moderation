{
 "cells": [
  {
   "cell_type": "code",
   "execution_count": null,
   "id": "df4e8c76-8d2c-4a3e-88c4-cf8e4f450fe3",
   "metadata": {},
   "outputs": [],
   "source": []
  },
  {
   "cell_type": "code",
   "execution_count": 1,
   "id": "01fbf495-4e58-4462-99cf-446ce2e68826",
   "metadata": {},
   "outputs": [
    {
     "name": "stdout",
     "output_type": "stream",
     "text": [
      "Requirement already satisfied: hyperbox-brain in c:\\anaconda\\lib\\site-packages (0.1.6)\n",
      "Requirement already satisfied: numpy>=1.14.6 in c:\\anaconda\\lib\\site-packages (from hyperbox-brain) (1.26.4)\n",
      "Requirement already satisfied: scipy>=1.1.0 in c:\\anaconda\\lib\\site-packages (from hyperbox-brain) (1.13.1)\n",
      "Requirement already satisfied: joblib>=0.11 in c:\\anaconda\\lib\\site-packages (from hyperbox-brain) (1.4.2)\n",
      "Requirement already satisfied: threadpoolctl>=2.0.0 in c:\\anaconda\\lib\\site-packages (from hyperbox-brain) (3.5.0)\n",
      "Requirement already satisfied: scikit-learn>=0.24.0 in c:\\anaconda\\lib\\site-packages (from hyperbox-brain) (1.5.1)\n",
      "Requirement already satisfied: matplotlib>=2.2.3 in c:\\anaconda\\lib\\site-packages (from hyperbox-brain) (3.9.2)\n",
      "Requirement already satisfied: pandas>=0.25.0 in c:\\anaconda\\lib\\site-packages (from hyperbox-brain) (2.2.2)\n",
      "Requirement already satisfied: plotly>=4.10.0 in c:\\anaconda\\lib\\site-packages (from hyperbox-brain) (5.24.1)\n",
      "Requirement already satisfied: contourpy>=1.0.1 in c:\\anaconda\\lib\\site-packages (from matplotlib>=2.2.3->hyperbox-brain) (1.2.0)\n",
      "Requirement already satisfied: cycler>=0.10 in c:\\anaconda\\lib\\site-packages (from matplotlib>=2.2.3->hyperbox-brain) (0.11.0)\n",
      "Requirement already satisfied: fonttools>=4.22.0 in c:\\anaconda\\lib\\site-packages (from matplotlib>=2.2.3->hyperbox-brain) (4.51.0)\n",
      "Requirement already satisfied: kiwisolver>=1.3.1 in c:\\anaconda\\lib\\site-packages (from matplotlib>=2.2.3->hyperbox-brain) (1.4.4)\n",
      "Requirement already satisfied: packaging>=20.0 in c:\\anaconda\\lib\\site-packages (from matplotlib>=2.2.3->hyperbox-brain) (24.1)\n",
      "Requirement already satisfied: pillow>=8 in c:\\anaconda\\lib\\site-packages (from matplotlib>=2.2.3->hyperbox-brain) (10.4.0)\n",
      "Requirement already satisfied: pyparsing>=2.3.1 in c:\\anaconda\\lib\\site-packages (from matplotlib>=2.2.3->hyperbox-brain) (3.1.2)\n",
      "Requirement already satisfied: python-dateutil>=2.7 in c:\\anaconda\\lib\\site-packages (from matplotlib>=2.2.3->hyperbox-brain) (2.9.0.post0)\n",
      "Requirement already satisfied: pytz>=2020.1 in c:\\anaconda\\lib\\site-packages (from pandas>=0.25.0->hyperbox-brain) (2024.1)\n",
      "Requirement already satisfied: tzdata>=2022.7 in c:\\anaconda\\lib\\site-packages (from pandas>=0.25.0->hyperbox-brain) (2023.3)\n",
      "Requirement already satisfied: tenacity>=6.2.0 in c:\\anaconda\\lib\\site-packages (from plotly>=4.10.0->hyperbox-brain) (8.2.3)\n",
      "Requirement already satisfied: six>=1.5 in c:\\anaconda\\lib\\site-packages (from python-dateutil>=2.7->matplotlib>=2.2.3->hyperbox-brain) (1.16.0)\n",
      "Requirement already satisfied: optuna in c:\\anaconda\\lib\\site-packages (4.2.1)\n",
      "Requirement already satisfied: alembic>=1.5.0 in c:\\anaconda\\lib\\site-packages (from optuna) (1.13.3)\n",
      "Requirement already satisfied: colorlog in c:\\anaconda\\lib\\site-packages (from optuna) (6.9.0)\n",
      "Requirement already satisfied: numpy in c:\\anaconda\\lib\\site-packages (from optuna) (1.26.4)\n",
      "Requirement already satisfied: packaging>=20.0 in c:\\anaconda\\lib\\site-packages (from optuna) (24.1)\n",
      "Requirement already satisfied: sqlalchemy>=1.4.2 in c:\\anaconda\\lib\\site-packages (from optuna) (2.0.34)\n",
      "Requirement already satisfied: tqdm in c:\\anaconda\\lib\\site-packages (from optuna) (4.66.5)\n",
      "Requirement already satisfied: PyYAML in c:\\anaconda\\lib\\site-packages (from optuna) (6.0.1)\n",
      "Requirement already satisfied: Mako in c:\\anaconda\\lib\\site-packages (from alembic>=1.5.0->optuna) (1.2.3)\n",
      "Requirement already satisfied: typing-extensions>=4 in c:\\anaconda\\lib\\site-packages (from alembic>=1.5.0->optuna) (4.11.0)\n",
      "Requirement already satisfied: greenlet!=0.4.17 in c:\\anaconda\\lib\\site-packages (from sqlalchemy>=1.4.2->optuna) (3.0.1)\n",
      "Requirement already satisfied: colorama in c:\\users\\nhat nguyen\\appdata\\roaming\\python\\python312\\site-packages (from colorlog->optuna) (0.4.6)\n",
      "Requirement already satisfied: MarkupSafe>=0.9.2 in c:\\anaconda\\lib\\site-packages (from Mako->alembic>=1.5.0->optuna) (2.1.3)\n"
     ]
    }
   ],
   "source": [
    "!pip install hyperbox-brain\n",
    "!pip install optuna"
   ]
  },
  {
   "cell_type": "code",
   "execution_count": 2,
   "id": "7d2e5dc4-c28b-44d0-87e8-1d8bf8781697",
   "metadata": {},
   "outputs": [],
   "source": [
    "from preprocessing.tcw_builder import TCWBuilder\n",
    "from preprocessing.svd_extractor import SVDExtractor\n",
    "from sklearn.metrics import accuracy_score\n",
    "import pandas as pd\n",
    "from hbbrain.numerical_data.incremental_learner.iol_gfmm import ImprovedOnlineGFMM\n",
    "import numpy as np\n",
    "\n",
    "builder = TCWBuilder()\n",
    "extractor = SVDExtractor()\n",
    "socc = pd.read_csv('dataset/SOCC/processed/socc_method2.csv')\n",
    "\n"
   ]
  },
  {
   "cell_type": "code",
   "execution_count": 3,
   "id": "def0b6a9-5a11-43b5-aedb-7608313c2edb",
   "metadata": {},
   "outputs": [],
   "source": [
    "x = socc[['text']].to_numpy().flatten()\n",
    "y = socc[['label']].to_numpy().flatten()"
   ]
  },
  {
   "cell_type": "code",
   "execution_count": 4,
   "id": "ff48c3f0-424e-43a0-80e1-06047649b586",
   "metadata": {},
   "outputs": [],
   "source": [
    "# auto reload modules\n",
    "%load_ext autoreload\n",
    "%autoreload 2"
   ]
  },
  {
   "cell_type": "code",
   "execution_count": 5,
   "id": "003057ff-4975-497e-a15c-4b14754af44f",
   "metadata": {},
   "outputs": [],
   "source": [
    "builder.fit_transform(x)"
   ]
  },
  {
   "cell_type": "code",
   "execution_count": 6,
   "id": "86e06a7b-90a4-4b19-931b-e590000fd595",
   "metadata": {},
   "outputs": [],
   "source": [
    "extractor.fit_transform(builder.tcw)"
   ]
  },
  {
   "cell_type": "code",
   "execution_count": 7,
   "id": "2d667160-2d33-41af-a9ea-a2fd724d11d0",
   "metadata": {},
   "outputs": [
    {
     "data": {
      "text/plain": [
       "array([0, 1, 0, ..., 0, 0, 0])"
      ]
     },
     "execution_count": 7,
     "metadata": {},
     "output_type": "execute_result"
    }
   ],
   "source": [
    "labels = np.where(y == 'normal', 0, 1)\n",
    "labels"
   ]
  },
  {
   "cell_type": "code",
   "execution_count": 8,
   "id": "17dd94a4-33c2-4683-8a9f-049dbd9b6a37",
   "metadata": {},
   "outputs": [],
   "source": [
    "features = np.hstack((extractor.features_matrix, socc[['confidence']].to_numpy()))"
   ]
  },
  {
   "cell_type": "code",
   "execution_count": 9,
   "id": "ac3aa333-34e5-4832-bc20-7bea56a9f5d6",
   "metadata": {},
   "outputs": [],
   "source": [
    "from sklearn.model_selection import StratifiedKFold\n",
    "from sklearn.metrics import accuracy_score, recall_score, f1_score, precision_score\n",
    "import optuna\n",
    "\n",
    "skf = StratifiedKFold(n_splits=6, shuffle=True, random_state=42)\n",
    "accs = dict()\n",
    "recalls =dict()\n",
    "f1s = dict()\n",
    "precisions = dict()\n",
    "\n",
    "# Hyperparameters\n",
    "is_draw = False\n",
    "# theta = 0.3\n",
    "# gamma = 0.9293632816790488\n",
    "\n",
    "theta_values = [0.1, 0.2, 0.3, 0.4, 0.5, 0.6, 0.7]\n",
    "\n",
    "def objective(trial):\n",
    "    theta = trial.suggest_categorical('theta', theta_values)\n",
    "    gamma = trial.suggest_float('gamma', 0, 1)\n",
    "\n",
    "    acc = []\n",
    "    recall = []\n",
    "    f1 = []\n",
    "    precision = []\n",
    "    \n",
    "    for train_index, test_index in skf.split(features, labels):\n",
    "        clf = ImprovedOnlineGFMM(theta=theta, gamma=gamma, is_draw=is_draw)\n",
    "    \n",
    "        clf.fit(features[train_index], labels[train_index])\n",
    "    \n",
    "        acc.append(accuracy_score(labels[test_index], clf.predict(features[test_index])))\n",
    "        recall.append(recall_score(labels[test_index], clf.predict(features[test_index]), average='binary'))\n",
    "        f1.append(recall_score(labels[test_index], clf.predict(features[test_index]), average='binary'))\n",
    "        precision.append(recall_score(labels[test_index], clf.predict(features[test_index]), average='binary'))\n",
    "\n",
    "    _objective_value = np.mean(recall)\n",
    "    \n",
    "    accs[f'{theta} + {gamma}'] = np.mean(acc)\n",
    "    recalls[f'{theta} + {gamma}'] = _objective_value\n",
    "    f1s[f'{theta} + {gamma}'] = np.mean(f1)\n",
    "    precisions[f'{theta} + {gamma}'] = np.mean(precision)\n",
    "\n",
    "    return _objective_value\n"
   ]
  },
  {
   "cell_type": "code",
   "execution_count": null,
   "id": "72fa9271-2210-4725-af4b-dd8fea74ac48",
   "metadata": {},
   "outputs": [],
   "source": [
    "study = optuna.create_study(direction='maximize')\n",
    "study.optimize(objective, n_trials=5)"
   ]
  },
  {
   "cell_type": "code",
   "execution_count": null,
   "id": "03da0dfd-9c96-4716-8d7f-4098b88c1592",
   "metadata": {},
   "outputs": [],
   "source": [
    "study.best_params"
   ]
  },
  {
   "cell_type": "code",
   "execution_count": null,
   "id": "17487009-5c47-4842-8ef3-9b41b816550a",
   "metadata": {},
   "outputs": [],
   "source": [
    "results = pd.DataFrame({\n",
    "    'Accuracy Score': accs,\n",
    "    'Recall Score': recalls,\n",
    "    'F1 Score': f1s,\n",
    "    'Precision Score': precisions,\n",
    "})"
   ]
  },
  {
   "cell_type": "code",
   "execution_count": null,
   "id": "f65f79ac-df27-45f7-97b4-aa11989c2c65",
   "metadata": {},
   "outputs": [],
   "source": [
    "display(results)"
   ]
  },
  {
   "cell_type": "code",
   "execution_count": null,
   "id": "1659a3c6-5fa0-4622-a919-264e896c2f33",
   "metadata": {},
   "outputs": [],
   "source": [
    "np.sum(labels == 1)\n",
    "np.sum(labels == 0)"
   ]
  },
  {
   "cell_type": "code",
   "execution_count": null,
   "id": "b7e33f3b-15e5-408d-b524-7089e37a35db",
   "metadata": {},
   "outputs": [],
   "source": []
  }
 ],
 "metadata": {
  "kernelspec": {
   "display_name": "Python [conda env:base] *",
   "language": "python",
   "name": "conda-base-py"
  },
  "language_info": {
   "codemirror_mode": {
    "name": "ipython",
    "version": 3
   },
   "file_extension": ".py",
   "mimetype": "text/x-python",
   "name": "python",
   "nbconvert_exporter": "python",
   "pygments_lexer": "ipython3",
   "version": "3.12.7"
  }
 },
 "nbformat": 4,
 "nbformat_minor": 5
}
