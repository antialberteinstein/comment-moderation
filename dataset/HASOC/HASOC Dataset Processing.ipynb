{
 "cells": [
  {
   "cell_type": "markdown",
   "id": "30b9d724-6238-49f5-b363-2d167129c11a",
   "metadata": {},
   "source": [
    "# This file is oriented to process the HASOC following the main purpose of \"comment-moderation' project"
   ]
  },
  {
   "cell_type": "code",
   "execution_count": 2,
   "id": "988cccaf-7b44-48b3-b63c-0eac47337141",
   "metadata": {},
   "outputs": [],
   "source": [
    "import pandas as pd"
   ]
  },
  {
   "cell_type": "code",
   "execution_count": 3,
   "id": "f8babc58-faf0-47a0-bcff-fee1f0a6a698",
   "metadata": {},
   "outputs": [],
   "source": [
    "en_train = pd.read_excel('raw/hasoc_2020_en_train.xlsx')\n",
    "de_train = pd.read_excel('raw/hasoc_2020_de_train.xlsx')\n",
    "hi_train = pd.read_excel('raw/hasoc_2020_hi_train.xlsx')\n",
    "en_test = pd.read_csv('raw/english_test_1509.csv')\n",
    "de_test = pd.read_csv('raw/german_test_1509.csv')\n",
    "hi_test = pd.read_csv('raw/hindi_test_1509.csv')"
   ]
  },
  {
   "cell_type": "code",
   "execution_count": 4,
   "id": "feb38f81-54a9-4ec5-8511-2df14fe9e161",
   "metadata": {},
   "outputs": [
    {
     "data": {
      "text/plain": [
       "array(['PRFN', 'NONE', 'OFFN', 'HATE'], dtype=object)"
      ]
     },
     "execution_count": 4,
     "metadata": {},
     "output_type": "execute_result"
    }
   ],
   "source": [
    "en_train['task2'].unique()"
   ]
  },
  {
   "cell_type": "code",
   "execution_count": 5,
   "id": "7e38f791-2b1e-44a6-8a91-13806cb58c7d",
   "metadata": {},
   "outputs": [],
   "source": [
    "def process(data):\n",
    "    pdata = data.copy()\n",
    "    pdata = pdata[['text', 'task2']]\n",
    "    pdata.columns = ['text', 'label']\n",
    "    pdata['label'] = pdata['label'].replace('PRFN', 'profanity')\n",
    "    pdata['label'] = pdata['label'].replace('NONE', 'none')\n",
    "    pdata['label'] = pdata['label'].replace('OFFN', 'offensive')\n",
    "    pdata['label'] = pdata['label'].replace('HATE', 'hateful')\n",
    "\n",
    "    return pdata"
   ]
  },
  {
   "cell_type": "code",
   "execution_count": 6,
   "id": "9b9d3eb2-1ff9-4399-b810-6dceae4d89bb",
   "metadata": {},
   "outputs": [],
   "source": [
    "pen_train = process(en_train)\n",
    "pde_train = process(de_train)\n",
    "phi_train = process(hi_train)\n",
    "pen_test = process(en_test)\n",
    "pde_test = process(de_test)\n",
    "phi_test = process(hi_test)"
   ]
  },
  {
   "cell_type": "code",
   "execution_count": 15,
   "id": "57eafd73-3520-4943-9f1b-b74b73b4e8bb",
   "metadata": {},
   "outputs": [],
   "source": [
    "pen_train.to_csv('processed/en_train.csv', index=False)\n",
    "pde_train.to_csv('processed/de_train.csv', index=False)\n",
    "phi_train.to_csv('processed/hi_train.csv', index=False)\n",
    "pen_test.to_csv('processed/en_test.csv', index=False)\n",
    "pde_test.to_csv('processed/de_test.csv', index=False)\n",
    "phi_test.to_csv('processed/hi_test.csv', index=False)"
   ]
  },
  {
   "cell_type": "code",
   "execution_count": 24,
   "id": "1b676687-f4d8-445c-b302-bad8e8395617",
   "metadata": {},
   "outputs": [
    {
     "data": {
      "text/html": [
       "<div>\n",
       "<style scoped>\n",
       "    .dataframe tbody tr th:only-of-type {\n",
       "        vertical-align: middle;\n",
       "    }\n",
       "\n",
       "    .dataframe tbody tr th {\n",
       "        vertical-align: top;\n",
       "    }\n",
       "\n",
       "    .dataframe thead th {\n",
       "        text-align: right;\n",
       "    }\n",
       "</style>\n",
       "<table border=\"1\" class=\"dataframe\">\n",
       "  <thead>\n",
       "    <tr style=\"text-align: right;\">\n",
       "      <th></th>\n",
       "      <th>tweet_id</th>\n",
       "      <th>text</th>\n",
       "      <th>task1</th>\n",
       "      <th>task2</th>\n",
       "      <th>ID</th>\n",
       "    </tr>\n",
       "  </thead>\n",
       "  <tbody>\n",
       "    <tr>\n",
       "      <th>0</th>\n",
       "      <td>1123757263427186690</td>\n",
       "      <td>hate wen females hit ah nigga with tht bro 😂😂,...</td>\n",
       "      <td>HOF</td>\n",
       "      <td>PRFN</td>\n",
       "      <td>hasoc_2020_en_2574</td>\n",
       "    </tr>\n",
       "    <tr>\n",
       "      <th>1</th>\n",
       "      <td>1123733301397733380</td>\n",
       "      <td>RT @airjunebug: When you're from the Bay but y...</td>\n",
       "      <td>HOF</td>\n",
       "      <td>PRFN</td>\n",
       "      <td>hasoc_2020_en_3627</td>\n",
       "    </tr>\n",
       "    <tr>\n",
       "      <th>2</th>\n",
       "      <td>1123734094108659712</td>\n",
       "      <td>RT @DonaldJTrumpJr: Dear Democrats: The Americ...</td>\n",
       "      <td>NOT</td>\n",
       "      <td>NONE</td>\n",
       "      <td>hasoc_2020_en_3108</td>\n",
       "    </tr>\n",
       "    <tr>\n",
       "      <th>3</th>\n",
       "      <td>1126951188170199049</td>\n",
       "      <td>RT @SheLoveTimothy: He ain’t on drugs he just ...</td>\n",
       "      <td>HOF</td>\n",
       "      <td>PRFN</td>\n",
       "      <td>hasoc_2020_en_3986</td>\n",
       "    </tr>\n",
       "    <tr>\n",
       "      <th>4</th>\n",
       "      <td>1126863510447710208</td>\n",
       "      <td>RT @TavianJordan: Summer ‘19 I’m coming for yo...</td>\n",
       "      <td>NOT</td>\n",
       "      <td>NONE</td>\n",
       "      <td>hasoc_2020_en_5152</td>\n",
       "    </tr>\n",
       "  </tbody>\n",
       "</table>\n",
       "</div>"
      ],
      "text/plain": [
       "              tweet_id                                               text  \\\n",
       "0  1123757263427186690  hate wen females hit ah nigga with tht bro 😂😂,...   \n",
       "1  1123733301397733380  RT @airjunebug: When you're from the Bay but y...   \n",
       "2  1123734094108659712  RT @DonaldJTrumpJr: Dear Democrats: The Americ...   \n",
       "3  1126951188170199049  RT @SheLoveTimothy: He ain’t on drugs he just ...   \n",
       "4  1126863510447710208  RT @TavianJordan: Summer ‘19 I’m coming for yo...   \n",
       "\n",
       "  task1 task2                  ID  \n",
       "0   HOF  PRFN  hasoc_2020_en_2574  \n",
       "1   HOF  PRFN  hasoc_2020_en_3627  \n",
       "2   NOT  NONE  hasoc_2020_en_3108  \n",
       "3   HOF  PRFN  hasoc_2020_en_3986  \n",
       "4   NOT  NONE  hasoc_2020_en_5152  "
      ]
     },
     "execution_count": 24,
     "metadata": {},
     "output_type": "execute_result"
    }
   ],
   "source": [
    "en_train.head()"
   ]
  },
  {
   "cell_type": "code",
   "execution_count": null,
   "id": "8a396bf3-d617-4e9b-8a3b-90acc1433912",
   "metadata": {},
   "outputs": [],
   "source": []
  }
 ],
 "metadata": {
  "kernelspec": {
   "display_name": "Python [conda env:base] *",
   "language": "python",
   "name": "conda-base-py"
  },
  "language_info": {
   "codemirror_mode": {
    "name": "ipython",
    "version": 3
   },
   "file_extension": ".py",
   "mimetype": "text/x-python",
   "name": "python",
   "nbconvert_exporter": "python",
   "pygments_lexer": "ipython3",
   "version": "3.12.7"
  }
 },
 "nbformat": 4,
 "nbformat_minor": 5
}
